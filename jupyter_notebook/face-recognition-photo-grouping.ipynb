{
 "cells": [
  {
   "cell_type": "markdown",
   "metadata": {},
   "source": [
    "# Face Recognition by using MTCNN and FaceNet"
   ]
  },
  {
   "cell_type": "markdown",
   "metadata": {},
   "source": [
    "### Reference: https://machinelearningmastery.com/how-to-develop-a-face-recognition-system-using-facenet-in-keras-and-an-svm-classifier/"
   ]
  },
  {
   "cell_type": "code",
   "execution_count": 1,
   "metadata": {},
   "outputs": [],
   "source": [
    "# face detection for the 5 Celebrity Faces Dataset\n",
    "from os import listdir\n",
    "from os.path import isdir\n",
    "from PIL import Image\n",
    "from PIL import Image as pilImage\n",
    "from matplotlib import pyplot\n",
    "import matplotlib.pyplot as plt\n",
    "from numpy import savez_compressed\n",
    "from numpy import asarray\n",
    "import numpy as np\n",
    "from mtcnn.mtcnn import MTCNN"
   ]
  },
  {
   "cell_type": "code",
   "execution_count": 2,
   "metadata": {},
   "outputs": [],
   "source": [
    "#Disable warning message generated from MTCNN library\n",
    "import logging\n",
    "import os\n",
    "logging.disable(logging.WARNING) \n",
    "os.environ[\"TF_CPP_MIN_LOG_LEVEL\"] = \"3\""
   ]
  },
  {
   "cell_type": "code",
   "execution_count": 3,
   "metadata": {},
   "outputs": [],
   "source": [
    "#global parameters \n",
    "mtcnnDetector = MTCNN()"
   ]
  },
  {
   "cell_type": "code",
   "execution_count": 4,
   "metadata": {},
   "outputs": [],
   "source": [
    "# draw an image with detected objects\n",
    "def plot_image(filename, result_list):\n",
    "    # load the image\n",
    "    data = plt.imread(filename)\n",
    "    # plot the image\n",
    "    plt.imshow(data)\n",
    "    # get the context for drawing boxes\n",
    "    ax = plt.gca()\n",
    "    # plot each box\n",
    "    for result in result_list:\n",
    "        # get coordinates\n",
    "        x, y, width, height = result['box']\n",
    "        # create the shape\n",
    "        rect = plt.Rectangle((x, y), width, height, fill=False, color='red')\n",
    "        # draw the box\n",
    "        ax.add_patch(rect)\n",
    "        \n",
    "        for key, value in result['keypoints'].items():\n",
    "            # create and draw dot\n",
    "            dot = plt.Circle(value, radius=2, color='red')\n",
    "            ax.add_patch(dot)\n",
    "        \n",
    "    # show the plot\n",
    "    plt.show()"
   ]
  },
  {
   "cell_type": "code",
   "execution_count": 5,
   "metadata": {},
   "outputs": [],
   "source": [
    "# draw an image with detected objects\n",
    "def plot_face(data):\n",
    "    # plot the image\n",
    "    plt.imshow(data)\n",
    "        \n",
    "    # show the plot\n",
    "    plt.show()"
   ]
  },
  {
   "cell_type": "markdown",
   "metadata": {},
   "source": [
    "## Convert face to vector"
   ]
  },
  {
   "cell_type": "code",
   "execution_count": 6,
   "metadata": {},
   "outputs": [],
   "source": [
    "def extract_face_list(filePath):\n",
    "    face_size = (160, 160)\n",
    "    \n",
    "    img = pilImage.open(filePath).convert('RGB')\n",
    "    imgArr = np.array(img)\n",
    "    faceArr = mtcnnDetector.detect_faces(imgArr)\n",
    "    #initialize two dimension arrays\n",
    "    #faceArray = [[0 for x in range(1)] for y in range(len(faceList))]\n",
    "    \n",
    "    faceList = list()\n",
    "#     print(f'{filePath} No. of faces detected: {len(faceArr)}')\n",
    "    \n",
    "    #show image with rectangle\n",
    "#     plot_image(filePath, faceArr)\n",
    "    \n",
    "    idx = 0\n",
    "    for face in faceArr:\n",
    "        x1, y1, width, height = face['box']\n",
    "        confidence = face['confidence']\n",
    "        keypoints = face['keypoints']\n",
    "        \n",
    "        # prevent negative return x, y value\n",
    "        x1, y1 = abs(x1), abs(y1)\n",
    "        \n",
    "        # get location of x2, y2 for face extraction\n",
    "        x2, y2 = x1 + width, y1 + height\n",
    "        \n",
    "        # extract the face from image array\n",
    "        targetFace = imgArr[y1:y2, x1:x2]\n",
    "        \n",
    "        # resize detected face, convert as array for output\n",
    "        faceImg = pilImage.fromarray(targetFace)\n",
    "        faceImg = faceImg.resize(face_size)\n",
    "        \n",
    "        #add to list for later return\n",
    "        faceList.append(np.array(faceImg))\n",
    "        \n",
    "        #show extracted face\n",
    "        #plot_face(faceImg)\n",
    "        \n",
    "        idx += 1\n",
    "#         print(f'face {idx}')\n",
    "#         print(f'x1 {x1}, y1 {y1}, width {width}, height {height}')\n",
    "#         print(f'confidence {confidence}')\n",
    "#         print(f'keypoints {keypoints}')\n",
    "        \n",
    "#     print(f'Extract face: {filePath}, No. of face:{len(faceList)} , data shape:{np.asarray(faceList).shape}')\n",
    "#     print(f'[{filePath}] No. of faceList extracted: {len(faceList)}')\n",
    "    \n",
    "        #print(f\"Face shape:{np.asarray(faceList).shape}, value[0]: {faceList[0]}\")\n",
    "    return faceList\n",
    "    \n",
    "    \n",
    "#testing \n",
    "#faceList =extract_face_list('real_dataset/avengers.png')\n",
    "#faceList = extract_face_list('real_dataset/test/test1.jpeg')\n",
    "#faceList =extract_face_list('real_dataset/leon.png')\n",
    "#print(f'faceList: {len(faceList)}')\n"
   ]
  },
  {
   "cell_type": "markdown",
   "metadata": {},
   "source": [
    "## Convert face and label to vector"
   ]
  },
  {
   "cell_type": "code",
   "execution_count": 7,
   "metadata": {},
   "outputs": [],
   "source": [
    "def read_folder_image(directory):\n",
    "    imageExt = (\".png\",\".jpeg\",\".jpg\",\".gif\")\n",
    "    faceList = list()\n",
    "    nameList = list()\n",
    "    \n",
    "    counter = 0\n",
    "    for item in listdir(directory):\n",
    "        # path\n",
    "        fullPath = directory + item \n",
    "        \n",
    "        # extract any files that might be in the dir\n",
    "        if isdir(fullPath):\n",
    "            #loop through all files in each sub folder\n",
    "            counter = 0\n",
    "            for filename in listdir(fullPath):\n",
    "                if filename.endswith(imageExt):\n",
    "                    counter += 1\n",
    "                    \n",
    "                    # use folder name as person name \n",
    "                    personName = item\n",
    "                    \n",
    "                    # get face\n",
    "                    filePath = fullPath +'/'+ filename\n",
    "                    extractFaceList = extract_face_list(filePath)\n",
    "                    faceList.extend(extractFaceList)\n",
    "                    nameList.extend([personName for _ in range(len(extractFaceList))])\n",
    "            \n",
    "            print(f'>loaded person: {personName}, total face: {counter}')\n",
    "        else:\n",
    "            continue\n",
    "#             if item.endswith(imageExt):\n",
    "#                 #file\n",
    "#                 filePath = fullPath\n",
    "#                 extractFaceList = extract_face_list(filePath)\n",
    "#                 faceList.extend(extractFaceList)\n",
    "    \n",
    "    return np.array(faceList),np.array(nameList)\n",
    "\n"
   ]
  },
  {
   "cell_type": "code",
   "execution_count": 8,
   "metadata": {},
   "outputs": [
    {
     "name": "stdout",
     "output_type": "stream",
     "text": [
      ">loaded person: ben_afflek, total face: 3\n",
      ">loaded person: mindy_kaling, total face: 2\n",
      "Total faceList: 5, nameList: 5\n",
      "Total faceList: (5, 160, 160, 3), nameList: (5,)\n",
      ">loaded person: ben_afflek, total face: 1\n",
      ">loaded person: mindy_kaling, total face: 1\n",
      "Total faceList: 2, nameList: 2\n",
      "Total faceList: (2, 160, 160, 3), nameList: (2,)\n"
     ]
    }
   ],
   "source": [
    "\n",
    "# run\n",
    "faceList, nameList = read_folder_image('dataset/train/')\n",
    "print(f'Total faceList: {len(faceList)}, nameList: {len(nameList)}')\n",
    "print(f'Total faceList: {faceList.shape}, nameList: {nameList.shape}')\n",
    "\n",
    "#verification\n",
    "verFaceList, verNameList = read_folder_image('dataset/val/')\n",
    "print(f'Total faceList: {len(verFaceList)}, nameList: {len(verNameList)}')\n",
    "print(f'Total faceList: {verFaceList.shape}, nameList: {verNameList.shape}')"
   ]
  },
  {
   "cell_type": "markdown",
   "metadata": {},
   "source": [
    "## Save face and name vector to file"
   ]
  },
  {
   "cell_type": "code",
   "execution_count": 9,
   "metadata": {},
   "outputs": [],
   "source": [
    "#save embedded face vector in compressed foramt\n",
    "savez_compressed('output/face_vector.npz', faceList, nameList, verFaceList, verNameList)\n"
   ]
  },
  {
   "cell_type": "markdown",
   "metadata": {},
   "source": [
    "# Get face embedding"
   ]
  },
  {
   "cell_type": "code",
   "execution_count": 10,
   "metadata": {},
   "outputs": [],
   "source": [
    "# calculate a face embedding for each face in the dataset using facenet\n",
    "from numpy import load\n",
    "from numpy import expand_dims\n",
    "from numpy import asarray\n",
    "from numpy import savez_compressed\n",
    "from keras.models import load_model\n"
   ]
  },
  {
   "cell_type": "code",
   "execution_count": 11,
   "metadata": {},
   "outputs": [],
   "source": [
    "# load the face dataset\n",
    "# data = load('output/face_vector.npz')\n",
    "# faceList, nameList, verFaceList, verNameList = data['arr_0'], data['arr_1'], data['arr_2'], data['arr_3']\n",
    "# print('Loaded: ', faceList.shape, nameList.shape, verFaceList.shape, verNameList.shape)\n",
    "\n"
   ]
  },
  {
   "cell_type": "code",
   "execution_count": 12,
   "metadata": {},
   "outputs": [
    {
     "name": "stdout",
     "output_type": "stream",
     "text": [
      "Loaded Model\n"
     ]
    }
   ],
   "source": [
    "# load the facenet model developed by Hiroki Taniai \n",
    "model = load_model('facenet_keras.h5')\n",
    "print('Loaded Model')"
   ]
  },
  {
   "cell_type": "code",
   "execution_count": 13,
   "metadata": {},
   "outputs": [],
   "source": [
    "\n",
    "# get the face embedding for one face\n",
    "def get_face_embedding(faceArr):\n",
    "        print(f'Before embed shape:{np.asarray(faceArr).shape}')\n",
    "\n",
    "        # convert face array to float for standardize\n",
    "        faceArr = faceArr.astype('float32')\n",
    "\n",
    "        # standardize value\n",
    "        mean, std = faceArr.mean(), faceArr.std()\n",
    "        faceArr = (faceArr - mean) / std\n",
    "\n",
    "        # convert face frmo one-dimension array to two-dimension array\n",
    "        reshapeFaceArr = expand_dims(faceArr, axis=0)\n",
    "        print(f'After standardize shape:{np.asarray(reshapeFaceArr).shape}')\n",
    "\n",
    "        # Get embedding result of each face\n",
    "        embedFace = model.predict(reshapeFaceArr)\n",
    "        print(f'Embeding face: {len(embedFace)} ,shape:{np.asarray(embedFace).shape}\\n')\n",
    "        #print(f'--------------------------')\n",
    "        return embedFace[0]\n",
    "\n"
   ]
  },
  {
   "cell_type": "code",
   "execution_count": 14,
   "metadata": {},
   "outputs": [
    {
     "name": "stdout",
     "output_type": "stream",
     "text": [
      "Before embed shape:(160, 160, 3)\n",
      "After standardize shape:(1, 160, 160, 3)\n",
      "Embeding face: 1 ,shape:(1, 128)\n",
      "\n",
      "Before embed shape:(160, 160, 3)\n",
      "After standardize shape:(1, 160, 160, 3)\n",
      "Embeding face: 1 ,shape:(1, 128)\n",
      "\n",
      "Before embed shape:(160, 160, 3)\n",
      "After standardize shape:(1, 160, 160, 3)\n",
      "Embeding face: 1 ,shape:(1, 128)\n",
      "\n",
      "Before embed shape:(160, 160, 3)\n",
      "After standardize shape:(1, 160, 160, 3)\n",
      "Embeding face: 1 ,shape:(1, 128)\n",
      "\n",
      "Before embed shape:(160, 160, 3)\n",
      "After standardize shape:(1, 160, 160, 3)\n",
      "Embeding face: 1 ,shape:(1, 128)\n",
      "\n",
      "Embedding Training Face shape: (5, 128)\n",
      "Before embed shape:(160, 160, 3)\n",
      "After standardize shape:(1, 160, 160, 3)\n",
      "Embeding face: 1 ,shape:(1, 128)\n",
      "\n",
      "Before embed shape:(160, 160, 3)\n",
      "After standardize shape:(1, 160, 160, 3)\n",
      "Embeding face: 1 ,shape:(1, 128)\n",
      "\n",
      "Embedding Verification Face shape: (2, 128)\n"
     ]
    }
   ],
   "source": [
    "# convert each training face into an embedding\n",
    "embedFaceList = list()\n",
    "for faceArr in faceList:\n",
    "    embedFaceList.append(get_face_embedding(faceArr))\n",
    "    \n",
    "print(f'Embedding Training Face shape: {np.asarray(embedFaceList).shape}')\n",
    "\n",
    "#convert each verificatin face into an embedding\n",
    "verEmbedFaceList = list()\n",
    "for faceArr in verFaceList:\n",
    "    verEmbedFaceList.append(get_face_embedding(faceArr))\n",
    "print(f'Embedding Verification Face shape: {np.asarray(verEmbedFaceList).shape}')\n"
   ]
  },
  {
   "cell_type": "markdown",
   "metadata": {},
   "source": [
    "# Face Classification\n"
   ]
  },
  {
   "cell_type": "code",
   "execution_count": 16,
   "metadata": {},
   "outputs": [],
   "source": [
    "# develop a classifier for the 5 Celebrity Faces Dataset\n",
    "from random import choice\n",
    "from numpy import load\n",
    "from numpy import expand_dims\n",
    "from sklearn.preprocessing import LabelEncoder\n",
    "from sklearn.preprocessing import Normalizer\n",
    "from sklearn.svm import SVC\n",
    "from matplotlib import pyplot\n"
   ]
  },
  {
   "cell_type": "code",
   "execution_count": 17,
   "metadata": {},
   "outputs": [
    {
     "name": "stdout",
     "output_type": "stream",
     "text": [
      "Before normalization shape:(5, 128), value[0]: [ 0.11955     0.5083082  -1.153429   -0.6759884   0.26851553]\n",
      "After normalization shape:(5, 128), value[0]: [ 0.01130838  0.04808148 -0.10910425 -0.06394256  0.02539921]\n"
     ]
    }
   ],
   "source": [
    "# normalize faces embedding for better comparsion\n",
    "print(f'Before normalization shape:{np.asarray(embedFaceList).shape}, value[0]: {embedFaceList[0][:5]}')\n",
    "norm = Normalizer(norm='l2') #L2 = least squares\n",
    "embedFaceList = norm.transform(embedFaceList)\n",
    "print(f'After normalization shape:{np.asarray(embedFaceList).shape}, value[0]: {embedFaceList[0][:5]}')\n",
    "\n",
    "# normalize verification faces \n",
    "verEmbedFaceList = norm.transform(verEmbedFaceList)"
   ]
  },
  {
   "cell_type": "markdown",
   "metadata": {},
   "source": [
    "### Save output"
   ]
  },
  {
   "cell_type": "code",
   "execution_count": null,
   "metadata": {},
   "outputs": [],
   "source": [
    "# save arrays to one file in compressed format\n",
    "savez_compressed('output/face_embeddings.npz', embedFaceList, nameList, verEmbedFaceList, verNameList)"
   ]
  },
  {
   "cell_type": "code",
   "execution_count": null,
   "metadata": {},
   "outputs": [],
   "source": [
    "# load verification faces vector list\n",
    "# data = load('output/face_vector.npz')\n",
    "# verFaceList = data['arr_2']\n",
    "\n",
    "# # load all faces embeddings and labels\n",
    "# data = load('output/face_embeddings.npz')\n",
    "# embedFaceList, nameList, verEmbedFaceList, verNameList = data['arr_0'], data['arr_1'], data['arr_2'], data['arr_3']\n",
    "\n"
   ]
  },
  {
   "cell_type": "code",
   "execution_count": 18,
   "metadata": {},
   "outputs": [],
   "source": [
    "# encode string label into integer\n",
    "# print(f'Before string encode for label, shape:{np.asarray(nameList).shape}, value[0]: {nameList[0]}')\n",
    "labelEncoder = LabelEncoder()\n",
    "#fit all name into model, total N labels, return N length array\n",
    "labelEncoder.fit(nameList)\n",
    "nameListInt = labelEncoder.transform(nameList)\n",
    "verNameListInt = labelEncoder.transform(verNameList)\n",
    "# print(f'After string encode for label, shape:{np.asarray(nameList).shape}, value[0]: {nameList[0]}')\n"
   ]
  },
  {
   "cell_type": "code",
   "execution_count": 25,
   "metadata": {},
   "outputs": [
    {
     "name": "stdout",
     "output_type": "stream",
     "text": [
      "['abc', 'def', 'abc']\n"
     ]
    }
   ],
   "source": [
    "testList = list()\n",
    "testList.append('abc')\n",
    "testList.append('def')\n",
    "testList.append('abc')\n",
    "\n",
    "print(testList)"
   ]
  },
  {
   "cell_type": "code",
   "execution_count": 24,
   "metadata": {},
   "outputs": [
    {
     "name": "stdout",
     "output_type": "stream",
     "text": [
      "nameList:['ben_afflek' 'ben_afflek' 'ben_afflek' 'mindy_kaling' 'mindy_kaling'], nameListInt: [0 0 0 1 1]\n",
      "class: ['ben_afflek' 'mindy_kaling'], transform:['ben_afflek' 'mindy_kaling']\n",
      ">********** ***** faceList:(5, 128), nameList: (5,)\n",
      "nameListInt: [0 0 0 1 1]\n",
      "embedFaceList:[[ 0.01130838  0.04808148 -0.10910425 -0.06394256  0.02539921 -0.07797499\n",
      "   0.1927132  -0.04730535  0.00811634 -0.07089572  0.03789509 -0.03182774\n",
      "   0.03468139 -0.10905536  0.058814   -0.0066898  -0.18626508  0.06075675\n",
      "  -0.0247056   0.01266888  0.08795453 -0.02258539 -0.01738161  0.00578435\n",
      "  -0.04021014  0.07518608  0.08400439 -0.15457287 -0.10732468  0.0670833\n",
      "  -0.02379289  0.13606024  0.14177415  0.02100771 -0.10340419  0.0446877\n",
      "  -0.14280376 -0.07212837 -0.16452116 -0.0292645   0.16414602  0.02990483\n",
      "   0.04273924  0.03948887  0.00188693 -0.08526108  0.10517079 -0.01034491\n",
      "  -0.04190593  0.0173951  -0.02573645 -0.08897178  0.03290391 -0.10632236\n",
      "   0.12822995 -0.09343152 -0.1465772   0.07052724  0.06363662 -0.04944387\n",
      "  -0.0858607  -0.07494359 -0.13404617 -0.1135892   0.07198398 -0.10316773\n",
      "  -0.07994032  0.04905432  0.07479484 -0.03191785  0.01540822 -0.02319021\n",
      "  -0.00611721  0.03173347 -0.22865339 -0.02754234 -0.06363019 -0.05329456\n",
      "   0.0040971  -0.12171771  0.04315925  0.00480228 -0.05844641 -0.01393754\n",
      "   0.20629542  0.00667391  0.04168793  0.07321758  0.10368959  0.07302558\n",
      "  -0.03359314  0.11242973  0.1066258   0.11397593 -0.1403877   0.00239362\n",
      "  -0.06730012  0.03557464 -0.04331836  0.01432667  0.0125009  -0.20157656\n",
      "   0.10214221 -0.1320848  -0.12958393 -0.15448666  0.09895607  0.14330317\n",
      "  -0.08303466  0.12154453 -0.06357498  0.05780149  0.04284634  0.0769238\n",
      "  -0.00799227  0.00209783  0.04814596 -0.12631518  0.16115087  0.13408571\n",
      "   0.07688442  0.11381166 -0.10446605  0.10247947 -0.02179824 -0.01360231\n",
      "  -0.03484943  0.05590499]\n",
      " [-0.03837648  0.10042635 -0.03866248 -0.13009839  0.06005561  0.00225268\n",
      "   0.1012255  -0.05522162  0.07382739 -0.14578867  0.00597031 -0.01973091\n",
      "  -0.05668628  0.01364195  0.03526651  0.01591293 -0.13521981  0.01387535\n",
      "  -0.03917778 -0.02324629  0.09963856  0.03903762  0.00230824 -0.08919026\n",
      "  -0.04251512  0.01317013 -0.04002321 -0.19216898 -0.17720494  0.00593823\n",
      "   0.00998813  0.01012028  0.11964156 -0.01175304 -0.1110877   0.17936167\n",
      "  -0.07082234 -0.11747521 -0.18322474  0.00327402  0.09730151  0.00776186\n",
      "   0.03309664  0.06574345  0.07672909 -0.01145847 -0.02491776  0.10800764\n",
      "  -0.02618231  0.1050212  -0.06117121 -0.08372229 -0.05023612 -0.11435985\n",
      "   0.06532475 -0.15887001 -0.13422704  0.10231829  0.0770155  -0.14396119\n",
      "  -0.09195993 -0.05525342 -0.13291495  0.01883644  0.04315614 -0.09058543\n",
      "  -0.11914358  0.02011036  0.00979736 -0.04359252 -0.00087638 -0.03327001\n",
      "   0.00867711 -0.10099815 -0.18107007 -0.07512467 -0.01696904 -0.01854866\n",
      "  -0.07331258 -0.03209022 -0.08287853  0.01304761 -0.06321873  0.02025027\n",
      "   0.10978436 -0.00535194 -0.01068284  0.07192751  0.04698336 -0.01084553\n",
      "   0.09559778  0.06645993  0.15261629  0.02922192 -0.11668251  0.0291991\n",
      "  -0.05649067  0.06970929 -0.11108836  0.0681838   0.04138315 -0.13977467\n",
      "   0.05450488 -0.10850408 -0.20514907 -0.19293816  0.08542891  0.11239728\n",
      "  -0.02544075  0.11279797 -0.12016836 -0.02600973  0.14316218  0.16682746\n",
      "   0.0278036   0.00870057  0.16738856 -0.0901369   0.07844588  0.10869925\n",
      "   0.00347694  0.08541147  0.00191836 -0.00362651  0.02298952 -0.16693959\n",
      "   0.01665845  0.13129446]\n",
      " [-0.0315433   0.05016927 -0.00198377 -0.13777032 -0.01967263  0.02756054\n",
      "   0.19541417 -0.09318659  0.01002369 -0.08638563  0.100875   -0.05773269\n",
      "   0.01338911 -0.0655958   0.10556704 -0.05494933 -0.22758287  0.04052827\n",
      "  -0.01919141 -0.02206207  0.13272576 -0.00310151  0.00519407 -0.0858739\n",
      "   0.00555897 -0.03656257  0.08502838 -0.13881356 -0.07051546  0.10685878\n",
      "   0.01321035  0.0876233   0.15985155  0.02614882 -0.06075513  0.03759059\n",
      "  -0.13642785 -0.04091122 -0.05512739 -0.07760102  0.13022211 -0.06684104\n",
      "  -0.14006868 -0.06495339 -0.03985743 -0.02102922  0.0191578  -0.07881667\n",
      "  -0.03864808 -0.02196536 -0.05324567 -0.1231505   0.10652004 -0.08080198\n",
      "   0.04527462 -0.07173316 -0.13511899  0.09387918  0.08220293 -0.1920842\n",
      "  -0.07761798 -0.06854789 -0.12995557 -0.12159074  0.08446395 -0.21990626\n",
      "  -0.0252647  -0.06657092  0.01046206 -0.04059896 -0.02323406 -0.04246091\n",
      "  -0.03523434 -0.09103277 -0.25835776 -0.0254984   0.01442643  0.00548426\n",
      "  -0.0273529   0.00111485  0.03222256 -0.03839229 -0.04707551 -0.00651853\n",
      "   0.19684474  0.04667711  0.08968657  0.11120055  0.03119125  0.01529413\n",
      "   0.03827627  0.07563727  0.00675368  0.09206278 -0.08324905  0.00040734\n",
      "  -0.0447772  -0.07341325  0.11332761 -0.00121508 -0.08221027 -0.04681376\n",
      "   0.17650715 -0.06289466 -0.10356417  0.02404675  0.11122268  0.14639793\n",
      "   0.03612629  0.04843283 -0.05886615 -0.06053261 -0.08898497  0.05537239\n",
      "   0.05986587  0.08640309  0.13468339 -0.05270489  0.05187229  0.12195847\n",
      "  -0.01074727  0.21420597 -0.03897352  0.05670924 -0.01068704  0.03250777\n",
      "  -0.11405466  0.08639354]\n",
      " [ 0.04839335 -0.09005577  0.02494993  0.01462577 -0.0524051   0.07069588\n",
      "  -0.05425602  0.06204494  0.1376062   0.01658947  0.02537501  0.07188366\n",
      "  -0.0153952  -0.00584636 -0.06723657 -0.00571751  0.08821153  0.15181935\n",
      "   0.02730731 -0.06731085  0.08684877 -0.1384443   0.14195319 -0.19207096\n",
      "   0.17113864 -0.09554366 -0.06725129  0.14063442 -0.05136288 -0.08457187\n",
      "  -0.02604679 -0.08299485  0.12145032 -0.15183504 -0.00944916 -0.08172004\n",
      "  -0.14432563  0.07231419 -0.10897569 -0.07161595 -0.19321826 -0.12635063\n",
      "   0.07483699 -0.0959564   0.01114456  0.05311085 -0.13336802  0.1274584\n",
      "  -0.04609975  0.03166416  0.16097912 -0.05857491 -0.00534736 -0.0433582\n",
      "   0.22791916 -0.01915463 -0.07181094  0.07369991  0.01575531 -0.06570164\n",
      "   0.01448946  0.06979267  0.01235241  0.02535423  0.13509461 -0.04542306\n",
      "  -0.17854817 -0.10230772 -0.10334302 -0.02440305  0.04326626 -0.10962846\n",
      "   0.0412593   0.05248241  0.00292884  0.03043155  0.08733197  0.04909196\n",
      "   0.1480933   0.0614111  -0.01169336  0.04976852  0.06084036 -0.0980444\n",
      "   0.04983355 -0.06097432 -0.01114475 -0.12941042  0.04954632  0.00498157\n",
      "   0.0420609   0.08594908 -0.01300323  0.0992554  -0.04965976  0.03913689\n",
      "  -0.07745734  0.14549714 -0.16012104 -0.10769452  0.07902412 -0.06351218\n",
      "   0.18695092 -0.01183185 -0.10285608  0.00895033  0.06084486  0.00774853\n",
      "   0.06631519 -0.02078582 -0.03919228  0.09482723 -0.09573057 -0.0175951\n",
      "   0.06166133 -0.01239381  0.17305936  0.11763673 -0.0049913  -0.10498826\n",
      "   0.03589671  0.04037726  0.02044698  0.17013717  0.02302108  0.0494355\n",
      "  -0.07741775 -0.03559636]\n",
      " [ 0.00335597 -0.06326976  0.04864686  0.03353886  0.02081048  0.00087034\n",
      "  -0.12982824  0.0052644   0.12406797  0.07328317 -0.05107923  0.14715625\n",
      "  -0.06164555 -0.05361415 -0.07330219  0.08932026  0.07737862  0.01702413\n",
      "   0.00315289 -0.05551837  0.1296838  -0.09185085  0.1296374  -0.08779825\n",
      "   0.15266033 -0.14323042 -0.05723257  0.21444109  0.05809871  0.01445583\n",
      "  -0.09047262 -0.08096072  0.0254716  -0.08962702  0.03509808 -0.01333282\n",
      "  -0.11314768  0.02352455 -0.14542805 -0.08460438 -0.1385129  -0.06247216\n",
      "   0.03697354  0.05422306 -0.00902227  0.10168269 -0.19066395  0.07179398\n",
      "  -0.07902213  0.104235    0.0869223  -0.04176296  0.1681143  -0.00303741\n",
      "   0.12626244 -0.01359417 -0.08912739 -0.00627468 -0.0073588   0.0285324\n",
      "  -0.04548579  0.08638535 -0.03825662 -0.02992164  0.06789878  0.02366515\n",
      "  -0.0289492  -0.14138685 -0.06010419  0.02854153  0.13182212  0.00491907\n",
      "  -0.04456921  0.11609522 -0.04197825 -0.00577751  0.14133343  0.08293878\n",
      "   0.17792974  0.04365608 -0.00598524  0.04277415  0.13295518 -0.1129325\n",
      "  -0.00671496 -0.13454203 -0.02071239 -0.1863912   0.0908726  -0.05668691\n",
      "   0.0112646   0.04817623 -0.11129685  0.16816804  0.04253713  0.00740152\n",
      "  -0.07069928  0.0593258  -0.13646537 -0.05999342  0.14139923 -0.06559259\n",
      "   0.01774925  0.01710901 -0.1430147   0.04166952  0.05620415 -0.09484653\n",
      "   0.04167235  0.02216236  0.00642025  0.08377716  0.00588257  0.036263\n",
      "   0.05747942 -0.02923062  0.18696216  0.05732868 -0.13247252 -0.12371471\n",
      "   0.18069534 -0.05748892  0.05253739 -0.00796976  0.01302685  0.10428455\n",
      "   0.1156346  -0.10152794]]\n"
     ]
    }
   ],
   "source": [
    "print(f'nameList:{nameList}, nameListInt: {nameListInt}')\n",
    "print(f'class: {labelEncoder.classes_}, transform:{labelEncoder.inverse_transform([0,1])}')\n",
    "\n",
    "print(f'>********** ***** faceList:{np.asarray(embedFaceList).shape}, nameList: {np.asarray(nameList).shape}')\n",
    "print(f'nameListInt: {nameListInt}\\nembedFaceList:{embedFaceList}')"
   ]
  },
  {
   "cell_type": "markdown",
   "metadata": {},
   "source": [
    "## Create decision boundary for training images"
   ]
  },
  {
   "cell_type": "code",
   "execution_count": null,
   "metadata": {},
   "outputs": [],
   "source": [
    "# fit Linear Support Vector Machine (SVM)，with decision boundary\n",
    "model = SVC(kernel='linear', probability=True)\n",
    "model.fit(embedFaceList, nameListInt)"
   ]
  },
  {
   "cell_type": "markdown",
   "metadata": {},
   "source": [
    "# Random testing"
   ]
  },
  {
   "cell_type": "code",
   "execution_count": null,
   "metadata": {},
   "outputs": [],
   "source": [
    "#### test model on a random example from the test dataset\n",
    "randomIdx = np.random.randint(verEmbedFaceList.shape[0])\n",
    "#randomIdx = 31\n",
    "randomFaceArr = verFaceList[randomIdx]\n",
    "randomFaceEmb = verEmbedFaceList[randomIdx]\n",
    "randomFaceNameInt = verNameListInt[randomIdx]\n",
    "randomFaceNameStr = labelEncoder.inverse_transform([randomFaceNameInt])\n",
    "\n",
    "\n",
    "# prediction for the face\n",
    "currEmbFace = expand_dims(randomFaceEmb, axis=0)\n",
    "predictClass = model.predict(currEmbFace)\n",
    "predictProb = model.predict_proba(currEmbFace)\n",
    "\n",
    "# prepare result for display\n",
    "predictClassInt = predictClass[0]\n",
    "predictClassProb = predictProb[0, predictClassInt] * 100 #get probability of predict item\n",
    "predictClassName = labelEncoder.inverse_transform(predictClass)\n",
    "\n",
    "\n",
    "print('randomIdx: %s' % randomIdx)\n",
    "print(f'TargetFaceNameStr: {randomFaceNameStr}, TargetFaceNameInt: {randomFaceNameInt}')\n",
    "\n",
    "print('predictClass: %s' % predictClassInt)\n",
    "print('predictProb: %s' % predictProb)\n",
    "print('predictProb[0, predictClassIdx]: %s' % predictClassProb)\n",
    "print('predictClassName: %s' % predictClassName)\n",
    "\n",
    "#-------\n",
    "\n",
    "# guess result\n",
    "if(randomFaceNameInt==predictClassInt):\n",
    "    print('Bingo!')\n",
    "else:\n",
    "    print('WRONG!!!!!')\n",
    "        \n",
    "print('Predicted: %s (%.3f)' % (predictClassName, predictClassProb))\n",
    "print('Expected: %s' % randomFaceNameStr)\n",
    "\n",
    "# plot image for eyeball verify\n",
    "pyplot.imshow(randomFaceArr)\n",
    "title = '%s (Score: %.3f)' % (predictClassName[0], predictClassProb)\n",
    "pyplot.title(title)\n",
    "pyplot.show()\n"
   ]
  },
  {
   "cell_type": "code",
   "execution_count": null,
   "metadata": {},
   "outputs": [],
   "source": []
  }
 ],
 "metadata": {
  "kernelspec": {
   "display_name": "Python 3",
   "language": "python",
   "name": "python3"
  },
  "language_info": {
   "codemirror_mode": {
    "name": "ipython",
    "version": 3
   },
   "file_extension": ".py",
   "mimetype": "text/x-python",
   "name": "python",
   "nbconvert_exporter": "python",
   "pygments_lexer": "ipython3",
   "version": "3.7.7"
  }
 },
 "nbformat": 4,
 "nbformat_minor": 4
}
